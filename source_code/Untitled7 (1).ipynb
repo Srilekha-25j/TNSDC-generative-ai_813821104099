{
  "nbformat": 4,
  "nbformat_minor": 0,
  "metadata": {
    "colab": {
      "provenance": []
    },
    "kernelspec": {
      "name": "python3",
      "display_name": "Python 3"
    },
    "language_info": {
      "name": "python"
    }
  },
  "cells": [
    {
      "cell_type": "code",
      "source": [
        "import pandas as pd\n",
        "from sklearn.model_selection import train_test_split\n",
        "from sklearn.feature_extraction.text import TfidfVectorizer\n",
        "from sklearn.linear_model import PassiveAggressiveClassifier\n",
        "from sklearn.metrics import accuracy_score, confusion_matrix"
      ],
      "metadata": {
        "id": "hiUhNS7JVfCy"
      },
      "execution_count": 2,
      "outputs": []
    },
    {
      "cell_type": "code",
      "source": [
        "df = pd.read_csv('your_dataset.csv')\n",
        "\n",
        "# Display the first 10 rows of the dataset\n",
        "print(\"Sample Data:\")\n",
        "print(df.head(10)) Generation"
      ],
      "metadata": {
        "id": "W_TmHZUBVsrz"
      },
      "execution_count": 3,
      "outputs": []
    },
    {
      "cell_type": "code",
      "source": [
        "\n",
        "\n",
        "# Splitting the dataset into training and testing sets\n",
        "X_train, X_test, y_train, y_test = train_test_split(df['text'], df['label'], test_size=0.2, random_state=42)\n",
        "\n",
        "# Initialize a TfidfVectorizer\n",
        "tfidf_vectorizer = TfidfVectorizer(stop_words='english', max_df=0.7)\n",
        "\n",
        "# Fit and transform the training set, transform the test set\n",
        "tfidf_train = tfidf_vectorizer.fit_transform(X_train)\n",
        "tfidf_test = tfidf_vectorizer.transform(X_test)\n",
        "\n",
        "# Initialize a PassiveAggressiveClassifier\n",
        "pac = PassiveAggressiveClassifier(max_iter=50)\n",
        "\n",
        "# Train the model\n",
        "pac.fit(tfidf_train, y_train)\n",
        "\n",
        "# Predict on the test set\n",
        "y_pred = pac.predict(tfidf_test)\n",
        "\n",
        "# Calculate accuracy\n",
        "accuracy = accuracy_score(y_test, y_pred)\n",
        "print('\\nModel Performance:')\n",
        "print(f'Accuracy: {accuracy*100:.2f}%')\n",
        "\n",
        "# Confusion matrix\n",
        "confusion_mat = confusion_matrix(y_test, y_pred)\n",
        "print('Confusion Matrix:')\n",
        "print(confusion_mat)\n"
      ],
      "metadata": {
        "colab": {
          "base_uri": "https://localhost:8080/"
        },
        "id": "AT0nFwp6V2gV",
        "outputId": "4c741c8c-bdb4-41cb-d29c-e5fc136c5922"
      },
      "execution_count": 4,
      "outputs": [
        {
          "output_type": "stream",
          "name": "stdout",
          "text": [
            "Sample Data:\n",
            "                                                text label\n",
            "0      Study finds chocolate is good for your health  Real\n",
            "1       NASA discovers new planet with possible life  Real\n",
            "2             Local politician accused of corruption  Fake\n",
            "3          Tips to improve your productivity at work  Real\n",
            "4       New iPhone rumored to be released next month  Real\n",
            "5               Company XYZ announces record profits  Real\n",
            "6    Breaking news: major earthquake hits California  Fake\n",
            "7  Scientists warn about the effects of climate c...  Real\n",
            "8  Celebrity couple splits after 10 years of marr...  Fake\n",
            "9  Rare species of bird spotted in the Amazon rai...  Real\n",
            "\n",
            "Model Performance:\n",
            "Accuracy: 50.00%\n",
            "Confusion Matrix:\n",
            "[[0 1]\n",
            " [0 1]]\n"
          ]
        }
      ]
    }
  ]
}